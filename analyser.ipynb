{
 "cells": [
  {
   "cell_type": "code",
   "execution_count": 23,
   "metadata": {},
   "outputs": [
    {
     "data": {
      "text/plain": [
       "{'suggested': [{'name': 'ms', 'invest': 1200, 'revenue': 3100},\n",
       "  {'name': 'telsa', 'invest': 1000, 'revenue': 2500},\n",
       "  {'name': 'ibm', 'invest': 1010, 'revenue': 2312}],\n",
       " 'total_investment_cost': 3210,\n",
       " 'total_revenue': 7912,\n",
       " 'total_profit': 4702,\n",
       " 'remainig_capital': 790}"
      ]
     },
     "execution_count": 23,
     "metadata": {},
     "output_type": "execute_result"
    }
   ],
   "source": [
    "import json\n",
    "with open(\"businesses.json\") as f:\n",
    "    investments = json.load(f)\n",
    "def analyse_buisness(investments, capital):\n",
    "    invested = []\n",
    "    def find_best():\n",
    "        currnt_best = None\n",
    "        best_worth = 0\n",
    "        for investment in investments:\n",
    "            investment_worth = investment[\"revenue\"] - investment[\"invest\"]\n",
    "            if investment_worth > best_worth and investment[\"invest\"] <= capital and investment not in invested:\n",
    "                currnt_best = investment\n",
    "                best_worth = investment_worth\n",
    "        return currnt_best\n",
    "    currnt_best = find_best()\n",
    "    while currnt_best is not None:\n",
    "        invested.append(currnt_best)\n",
    "        capital -= currnt_best[\"invest\"]\n",
    "        currnt_best = find_best()\n",
    "    new_inv = []\n",
    "    new_rev = []\n",
    "    for invest in invested:\n",
    "        _inv = invest[\"invest\"]\n",
    "        _rev = invest[\"revenue\"]\n",
    "        new_inv.append(_inv)\n",
    "        new_rev.append(_rev)\n",
    "    total_investment_cost = sum(new_inv)\n",
    "    total_revenue = sum(new_rev)\n",
    "    total_profit = total_revenue -  total_investment_cost\n",
    "    return { \"suggested\": invested, \"total_investment_cost\": total_investment_cost, \"total_revenue\": total_revenue, \"total_profit\": total_profit,\"remainig_capital\": capital }\n",
    "analyse_buisness(investments, 4000)\n",
    "\n",
    "\n"
   ]
  }
 ],
 "metadata": {
  "interpreter": {
   "hash": "ec39b2ded0b3042f39abdae71d72b114ce2435f72afd9c666e52e21426fbdcef"
  },
  "kernelspec": {
   "display_name": "Python 3.10.3 64-bit",
   "language": "python",
   "name": "python3"
  },
  "language_info": {
   "codemirror_mode": {
    "name": "ipython",
    "version": 3
   },
   "file_extension": ".py",
   "mimetype": "text/x-python",
   "name": "python",
   "nbconvert_exporter": "python",
   "pygments_lexer": "ipython3",
   "version": "3.10.3"
  },
  "orig_nbformat": 4
 },
 "nbformat": 4,
 "nbformat_minor": 2
}
